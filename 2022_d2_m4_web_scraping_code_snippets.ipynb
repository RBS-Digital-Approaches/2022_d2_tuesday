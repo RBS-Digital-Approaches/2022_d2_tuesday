{
  "nbformat": 4,
  "nbformat_minor": 0,
  "metadata": {
    "colab": {
      "name": "2022_d2_m4_web_scraping_code_snippets.ipynb",
      "provenance": [],
      "toc_visible": true
    },
    "kernelspec": {
      "name": "python3",
      "display_name": "Python 3"
    },
    "language_info": {
      "name": "python"
    }
  },
  "cells": [
    {
      "cell_type": "markdown",
      "source": [
        "##1 - Combobulate"
      ],
      "metadata": {
        "id": "tKbuwJAoOwxl"
      }
    },
    {
      "cell_type": "code",
      "execution_count": null,
      "metadata": {
        "id": "IVsL28G0B0kP"
      },
      "outputs": [],
      "source": [
        "#Code snippet 1\n",
        "#Connect to Google Drive\n",
        "from google.colab import drive\n",
        "drive.mount('/gdrive')"
      ]
    },
    {
      "cell_type": "code",
      "source": [
        "#Code snippet 2\n",
        "data_directory = '/gdrive/MyDrive/rbs_digital_approaches_2022/2022_data_class/'\n",
        "data_file = data_directory + 'MS_digitised_books_2021-01-09.csv'"
      ],
      "metadata": {
        "id": "pa-h2EdxCavc"
      },
      "execution_count": null,
      "outputs": []
    },
    {
      "cell_type": "markdown",
      "source": [
        "##2 - Look at one particular row\n",
        "There's other code we'll have to write in class before we get to this snippet, so it won't do anything on its own."
      ],
      "metadata": {
        "id": "6BBX1Iv2O4XX"
      }
    },
    {
      "cell_type": "code",
      "source": [
        "#Code snippet 3\n",
        "pre_1801_behn.loc[pre_1801_behn['BL record ID'] == 14816272]"
      ],
      "metadata": {
        "id": "LHh8nSTzHfKU"
      },
      "execution_count": null,
      "outputs": []
    },
    {
      "cell_type": "markdown",
      "source": [
        "##3 - Look at catalogue record and book view in our browser"
      ],
      "metadata": {
        "id": "Bx8HKNyfPTbG"
      }
    },
    {
      "cell_type": "code",
      "source": [
        "#Representative BL catalogue record page:\n",
        "http://explore.bl.uk/BLVU1:LSCOP-ALL:BLL01014816272\n",
        "\n",
        "#BL book viewer page for that book:\n",
        "http://access.bl.uk/item/viewer/ark:/81055/vdc_00000002ABE8"
      ],
      "metadata": {
        "id": "G5rj0cc7HE2x"
      },
      "execution_count": null,
      "outputs": []
    },
    {
      "cell_type": "markdown",
      "source": [
        "##4 - Actually retrieve information from the web, version 1"
      ],
      "metadata": {
        "id": "ano6yHfIPYcH"
      }
    },
    {
      "cell_type": "code",
      "source": [
        "#Code snippet 4\n",
        "#1. Import packages: requests (and related) for retrieving the contents of the \n",
        "#web page; BeautifulSoup for parsing the HTML; re [Regular Expressions] for \n",
        "#defining and searching for a pattern of text to identify vdc_ numbers\n",
        "\n",
        "import requests\n",
        "from requests.adapters import HTTPAdapter\n",
        "from requests.packages.urllib3.util.retry import Retry\n",
        "from bs4 import BeautifulSoup\n",
        "import re\n",
        "\n",
        "#2. Define a function accepting rec_id as an argument\n",
        "def retrieve_vdc_simple(rec_id) :\n",
        "  #2.a. Create a pattern for retrieving URLs that can tolerate some intermittent\n",
        "  #server problems by retrying failed requests\n",
        "  retry_strategy = Retry(\n",
        "      total=3,\n",
        "      status_forcelist=[429, 500, 502, 503, 504],\n",
        "      method_whitelist=[\"GET\"]\n",
        "  )\n",
        "  adapter = HTTPAdapter(max_retries=retry_strategy)\n",
        "  #Note that the actual connection to the resource is given the variable name\n",
        "  #http. In other code you'll see online, you'll often see requests.get(url).\n",
        "  #This is more or less what's happening here; without a retry strategy, though, \n",
        "  #a scraping script can be quite brittle, failing at the first server error it \n",
        "  #encounters.\n",
        "  http = requests.Session()\n",
        "  http.mount(\"https://\", adapter)\n",
        "  http.mount(\"http://\", adapter)\n",
        "  #Tell the web page that we're using Firefox for Windows. \n",
        "  #This is... not veracious.\n",
        "  headers = {\n",
        "  'User-Agent': 'Mozilla/5.0 (Windows NT 10.0; rv:91.0) Gecko/20100101 Firefox/91.0'\n",
        "  }\n",
        "  \n",
        "  #2.b Construct and retrieve a URL that takes the basic form of the permalink to\n",
        "  #a BL catalogue record with the rec_id parameter added to the end (as a string)\n",
        "  rec_url = 'http://explore.bl.uk/primo_library/libweb/action/display.do?frbrVersion=4&tabs=moreTab&ct=display&fn=search&doc=BLL010' + str(rec_id) + \\\n",
        "  '&vid=BLVU1&lang=en_US&institution=BL'\n",
        "  rec_r = http.get(rec_url, headers=headers)\n",
        "  \n",
        "  #2.c Pass the content of the retrieved result to BeautifulSoup for parsing\n",
        "  rec_soup = BeautifulSoup(rec_r.content, 'html.parser')\n",
        "  \n",
        "  #2.d Construct a regular experession pattern to find vdc_ numbers and hold\n",
        "  #on to them using a capture pattern\n",
        "  viewer_pattern = re.compile(r'vdc_([A-Za-z0-9\\.]+)')\n",
        "  \n",
        "  #Find the input element with id \"getit1_0\" using BeautifulSoup's find_all() method\n",
        "  view_button = rec_soup.find_all('input', id='getit1_0')\n",
        "  \n",
        "  #There are some ghost records in the metadata file: if there's not actually a \n",
        "  #view_button on the page we retireve, return 'None found' and move on\n",
        "  if len(view_button) == 0 :\n",
        "    return 'None found'\n",
        "  \n",
        "  else :\n",
        "    #Python's re.findall() returns a list of all matches of the regular expression.\n",
        "    vdc_list = re.findall(viewer_pattern, view_button[0]['value'])\n",
        "    print(vdc_list)\n",
        "    \n",
        "    #The vdc_number can appear multiple times in the value attribute, but \n",
        "    #sometimes there are actually multiple vdc_ numbers for a record: there could\n",
        "    #be multiple volumes, or there could be more than one scan of the same volume\n",
        "    #(e.g., one by Google, one by the British Library). We want all of the\n",
        "    #vdc_ numbers, but we only need each one once.\n",
        "    #\n",
        "    #This one-liner uses set() to get the distinct results, then wraps that set\n",
        "    #in list() to turn the set back into a list.\n",
        "    vdc_distinct_list = list(set(vdc_list))\n",
        "    \n",
        "    #If the length of vdc_distinct_list equals 1, there's just one vdc_ number:\n",
        "    #prepend \"vdc_\" to it and make that the value of the variable vdc\n",
        "    if len(vdc_distinct_list) == 1 :\n",
        "      vdc = 'vdc_' + vdc_distinct_list[0]\n",
        "    #If there are multiple vdc_ numbers...\n",
        "    else :\n",
        "     #Prepend  \"vdc_\" to each of them and make a list\n",
        "     multi_vdc = ['vdc_' + vdc_item for vdc_item in vdc_distinct_list]\n",
        "     #Join together all of the items in that list, separated by a pipe character\n",
        "     vdc = '|'.join(multi_vdc)\n",
        "    \n",
        "    #2.e Return the resulting vdc_number(s)\n",
        "    return vdc"
      ],
      "metadata": {
        "id": "oF6PlfJWJaXG"
      },
      "execution_count": null,
      "outputs": []
    },
    {
      "cell_type": "markdown",
      "source": [
        "##5 - Actually retrieve information from the web, version 2"
      ],
      "metadata": {
        "id": "Cy7eX80IPg-W"
      }
    },
    {
      "cell_type": "code",
      "source": [
        "#Code snippet 5\n",
        "#This function defines an http request with a retry srategy. It accepts a URL\n",
        "#as an argument, requests the URL using our defined http connection, and returns\n",
        "#the response to that request\n",
        "def create_http(url) :\n",
        "  retry_strategy = Retry(\n",
        "      total=3,\n",
        "      status_forcelist=[429, 500, 502, 503, 504],\n",
        "      method_whitelist=[\"GET\"]\n",
        "  )\n",
        "  adapter = HTTPAdapter(max_retries=retry_strategy)\n",
        "  http = requests.Session()\n",
        "  http.mount(\"https://\", adapter)\n",
        "  http.mount(\"http://\", adapter)\n",
        "  headers = {\n",
        "  'User-Agent': 'Mozilla/5.0 (Windows NT 10.0; rv:91.0) Gecko/20100101 Firefox/91.0'\n",
        "  }\n",
        "  \n",
        "  r = http.get(url, headers=headers)\n",
        "\n",
        "  return r\n",
        "\n",
        "#This function receives a record id as an argument, constructs a URL to feed to\n",
        "#the create_http function, then processeds the information that the create_http\n",
        "#function returns\n",
        "def retrieve_vdc(rec_id) :\n",
        "  #Construct a URL incorporating the rec_id parameter \n",
        "  rec_url = 'http://explore.bl.uk/primo_library/libweb/action/display.do?frbrVersion=4&tabs=moreTab&ct=display&fn=search&doc=BLL010' + \\\n",
        "  str(rec_id) + '&vid=BLVU1&lang=en_US&institution=BL'\n",
        "  \n",
        "  #pass the URL we just constructed to the create_http function we defined in\n",
        "  #code cell 17: we are calling a function from inside another function\n",
        "  rec_r = create_http(rec_url)\n",
        "  \n",
        "  #Pass the content of the response to BeautifulSoup for parsing\n",
        "  rec_soup = BeautifulSoup(rec_r.content, 'html.parser')\n",
        "  \n",
        "  #See comments in code cell 16\n",
        "  viewer_pattern = re.compile(r'vdc_([A-Za-z0-9\\.]+)')\n",
        "  google_pattern = re.compile(r'books\\.google\\.com.+vid%253DBL%253A([A-Za-z0-9]+)%2520')\n",
        "  view_button = rec_soup.find_all('input', id='getit1_0')\n",
        "  if len(view_button) == 0 :\n",
        "    return 'None found'\n",
        "  else :\n",
        "    vdc_list = re.findall(viewer_pattern, view_button[0]['value'])\n",
        "    print(vdc_list)\n",
        "    vdc_distinct_list = list(set(vdc_list))\n",
        "    if len(vdc_distinct_list) == 1 :\n",
        "      vdc = 'vdc_' + vdc_distinct_list[0]\n",
        "    else :\n",
        "     multi_vdc = ['vdc_' + vdc_item for vdc_item in vdc_distinct_list]\n",
        "     vdc = '|'.join(multi_vdc)\n",
        "    return vdc"
      ],
      "metadata": {
        "id": "GQ_EM8QdNc-q"
      },
      "execution_count": null,
      "outputs": []
    },
    {
      "cell_type": "markdown",
      "source": [
        "##6 - Split a row with multiple values in one column into two rows\n",
        "Like #2, above, this is only going to work after we've written some other code."
      ],
      "metadata": {
        "id": "SW6pfCIwP6cB"
      }
    },
    {
      "cell_type": "code",
      "source": [
        "#Code snippet 6\n",
        "shakespeare_quarto = (\n",
        "    #Create a new object by splitting the vdc column into a list on the pipe character \n",
        "    shakespeare_quarto.assign(vdc=shakespeare_quarto['vdc'].str.split('|'))\n",
        "      #Explode the new vdc object into multiple rows\n",
        "      .explode('vdc')\n",
        "      #Reset the indices for the rows of the DataFrame: don't try to hold on to \n",
        "      #the existing indices, just accept new defaults (since we're creating rows\n",
        "      #where there weren't any before)\n",
        "      .reset_index(drop=True)\n",
        ")\n",
        "shakespeare_quarto"
      ],
      "metadata": {
        "id": "pqddkokvPx4W"
      },
      "execution_count": null,
      "outputs": []
    },
    {
      "cell_type": "markdown",
      "source": [
        "##7 - Retrieve more information from a different file on the British Library's servers"
      ],
      "metadata": {
        "id": "UR4UqczZPnCh"
      }
    },
    {
      "cell_type": "code",
      "source": [
        "#Code snippet 7\n",
        "import json\n",
        "\n",
        "def confirm_shelfmark(vdc_num) :\n",
        "  #Construct a URL to retrieve the IIIF manifest\n",
        "  iiif_manifest_url = 'https://api.bl.uk/metadata/iiif/ark:/81055/' + vdc_num + '/manifest.json'\n",
        "  print(iiif_manifest_url)\n",
        "  #Call the create_http function to retrieve the manifest\n",
        "  manifest_r = create_http(iiif_manifest_url)\n",
        "  \n",
        "  #Check to see if we succeeded in retrieving a manifest: there are some ghost\n",
        "  #records in the metadata file which will return errors if we attempt to \n",
        "  #retrieve them.\n",
        "  try :\n",
        "    #Parse the JSON from our retrieved request\n",
        "    manifest_json = json.loads(manifest_r.text)\n",
        "    #Get the 'metadata' object in the JSON \n",
        "    metadata = manifest_json['metadata']\n",
        "    confirmed_shelfmark = ''\n",
        "    #Iterate through the objects in the metadata object, looking for one that\n",
        "    #has the label \"Identifier\", then updating the confirmed_shelfmark variable\n",
        "    #with the value of that object\n",
        "    for metadata_item in metadata :\n",
        "      if metadata_item['label'] == 'Identifier' :\n",
        "        confirmed_shelfmark = metadata_item['value']\n",
        "    return confirmed_shelfmark\n",
        "  #If we stumbled on a bad record, return a simple message\n",
        "  except :\n",
        "    return ('Not found')"
      ],
      "metadata": {
        "id": "TBq16RpAOKRH"
      },
      "execution_count": null,
      "outputs": []
    },
    {
      "cell_type": "markdown",
      "source": [
        "##8 - Splitting rows with multi-value columns again"
      ],
      "metadata": {
        "id": "68Wek8YOQMbM"
      }
    },
    {
      "cell_type": "code",
      "source": [
        "pre_1801_behn = (\n",
        "    pre_1801_behn.assign(vdc=pre_1801_behn['vdc'].str.split('|'))\n",
        "      .explode('vdc')\n",
        "      .reset_index(drop=True)\n",
        ")\n",
        "pre_1801_behn"
      ],
      "metadata": {
        "id": "Eb2OJw80OXY5"
      },
      "execution_count": null,
      "outputs": []
    },
    {
      "cell_type": "markdown",
      "source": [
        "##9 - A different version of our scrape of the IIIF manifest to confirm shelfmark and get license terms\n"
      ],
      "metadata": {
        "id": "gAtG8wMFRXm6"
      }
    },
    {
      "cell_type": "code",
      "source": [
        "def check_manifest(vdc_num) :\n",
        "  iiif_manifest_url = 'https://api.bl.uk/metadata/iiif/ark:/81055/' + vdc_num + '/manifest.json'\n",
        "  print(iiif_manifest_url)\n",
        "  manifest_r = create_http(iiif_manifest_url)\n",
        "  try :\n",
        "    manifest_json = json.loads(manifest_r.text)\n",
        "    metadata = manifest_json['metadata']\n",
        "    confirmed_shelfmark = ''\n",
        "    for metadata_item in metadata :\n",
        "      if metadata_item['label'] == 'Identifier' :\n",
        "        confirmed_shelfmark = metadata_item['value']\n",
        "    #Look for the license object in the JSON, too\n",
        "    license_terms = manifest_json['license']\n",
        "    #Check to see if the value of the license object includes \"creativecommons\",\n",
        "    #\"google\", or... something else.\n",
        "    if license_terms.find('creativecommons') != -1 :\n",
        "      license = 'Public Domain'\n",
        "    elif license_terms.find('google') != -1 :\n",
        "      license = 'Google Books'\n",
        "    else :\n",
        "      license = license_terms\n",
        "    #Return a list including the confirmed shelfmark and the license\n",
        "    return [confirmed_shelfmark, license]\n",
        "  except :\n",
        "    return ('Not found')"
      ],
      "metadata": {
        "id": "neKJ_JtjRgvO"
      },
      "execution_count": null,
      "outputs": []
    },
    {
      "cell_type": "markdown",
      "source": [
        "##10 - Constructing links to catalogue record and book viewer\n"
      ],
      "metadata": {
        "id": "MRVIiy6ER23G"
      }
    },
    {
      "cell_type": "code",
      "source": [
        "def add_links(vdc_num) :\n",
        "  viewer_link = 'http://access.bl.uk/item/viewer/ark:/81055/' + vdc_num\n",
        "  iiif_manifest = 'https://api.bl.uk/metadata/iiif/ark:/81055/' + vdc_num + \\\n",
        "    'manifest.json'\n",
        "  return([viewer_link, iiif_manifest])"
      ],
      "metadata": {
        "id": "TiMjvDpKR9Vj"
      },
      "execution_count": null,
      "outputs": []
    }
  ]
}